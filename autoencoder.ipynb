{
 "metadata": {
  "kernelspec": {
   "language": "python",
   "display_name": "Python 3",
   "name": "python3"
  },
  "language_info": {
   "name": "python",
   "version": "3.10.12",
   "mimetype": "text/x-python",
   "codemirror_mode": {
    "name": "ipython",
    "version": 3
   },
   "pygments_lexer": "ipython3",
   "nbconvert_exporter": "python",
   "file_extension": ".py"
  }
 },
 "nbformat_minor": 4,
 "nbformat": 4,
 "cells": [
  {
   "cell_type": "code",
   "source": [
    "import os\n",
    "import shutil\n",
    "\n",
    "from IPython.display import display, clear_output\n",
    "import ipywidgets as widgets\n",
    "\n",
    "import torch\n",
    "from torch import nn, optim\n",
    "from matplotlib import pyplot as plt\n",
    "\n",
    "from rndshapesdataset import gen_shapes_data, ShapesGenerator"
   ],
   "metadata": {
    "execution": {
     "iopub.status.busy": "2023-08-09T05:48:25.351805Z",
     "iopub.execute_input": "2023-08-09T05:48:25.352479Z",
     "iopub.status.idle": "2023-08-09T05:48:28.940011Z",
     "shell.execute_reply.started": "2023-08-09T05:48:25.352439Z",
     "shell.execute_reply": "2023-08-09T05:48:28.939013Z"
    },
    "trusted": true,
    "ExecuteTime": {
     "end_time": "2023-08-11T14:33:04.225274679Z",
     "start_time": "2023-08-11T14:33:01.875633784Z"
    }
   },
   "execution_count": 1,
   "outputs": []
  },
  {
   "cell_type": "code",
   "source": [
    "class EncoderBlock(nn.Module):\n",
    "    @property\n",
    "    def i(self):\n",
    "        return self._i\n",
    "    \n",
    "    def __init__(self, in_chn, out_chn):\n",
    "        super().__init__()\n",
    "\n",
    "        self._i = torch.empty()\n",
    "\n",
    "        self._encoder = nn.Sequential(\n",
    "            nn.Conv2d(in_chn, out_chn, kernel_size=3, stride=1, padding=0),\n",
    "            nn.BatchNorm2d(out_chn),\n",
    "            nn.ReLU(),\n",
    "            nn.MaxPool2d(kernel_size=2, stride=2, padding=0, return_indices=True),\n",
    "        )\n",
    "\n",
    "    def forward(self, X):\n",
    "        Y, self._i = self._encoder(X)\n",
    "        return Y\n",
    "\n",
    "\n",
    "class DecoderBlock(nn.Module):\n",
    "    def __init__(self, in_chn, out_chn, eBlock: \"EncoderBlock\"):\n",
    "        super().__init__()\n",
    "\n",
    "        self._eBlock = eBlock\n",
    "\n",
    "        self._decoder = nn.Sequential(\n",
    "            nn.ConvTranspose2d(in_chn, out_chn, kernel_size=2, stride=2, padding=0),\n",
    "            nn.BatchNorm2d(out_chn),\n",
    "            nn.ReLU(),\n",
    "        )\n",
    "        self._unPool = nn.MaxUnpool2d(kernel_size=2, stride=2, padding=0)\n",
    "\n",
    "    def forward(self, X):\n",
    "        Y = self._decoder(X)\n",
    "        Y = self._unPool(Y, self._eBlock.i)\n",
    "        return Y"
   ],
   "metadata": {
    "_kg_hide-input": true,
    "execution": {
     "iopub.status.busy": "2023-08-09T05:48:30.141992Z",
     "iopub.execute_input": "2023-08-09T05:48:30.142937Z",
     "iopub.status.idle": "2023-08-09T05:48:30.152894Z",
     "shell.execute_reply.started": "2023-08-09T05:48:30.142902Z",
     "shell.execute_reply": "2023-08-09T05:48:30.151694Z"
    },
    "trusted": true,
    "ExecuteTime": {
     "end_time": "2023-08-09T06:10:26.827595865Z",
     "start_time": "2023-08-09T06:10:26.805437396Z"
    }
   },
   "execution_count": 2,
   "outputs": []
  },
  {
   "cell_type": "code",
   "source": [
    "class AutoEncoderDecoder(nn.Module):\n",
    "    def __init__(self, in_chn: int, encode_bits: int):\n",
    "        super().__init__()\n",
    "\n",
    "        self._encoder = nn.Sequential(\n",
    "            nn.Conv2d(in_chn, 32, kernel_size=3, stride=1, padding=1),\n",
    "            nn.ReLU(),\n",
    "            nn.MaxPool2d(kernel_size=2, stride=2, padding=0),\n",
    "\n",
    "            nn.Conv2d(32, 64, kernel_size=3, stride=1, padding=1),\n",
    "            nn.ReLU(),\n",
    "            nn.MaxPool2d(kernel_size=2, stride=2, padding=0),\n",
    "\n",
    "            nn.Conv2d(64, 128, kernel_size=3, stride=1, padding=1),\n",
    "            nn.ReLU(),\n",
    "            nn.MaxPool2d(kernel_size=2, stride=2, padding=0),\n",
    "\n",
    "            nn.Flatten(),\n",
    "            nn.Linear(128 * 8 * 8, encode_bits),\n",
    "            nn.Softmax(dim=1),\n",
    "        )\n",
    "\n",
    "        self._decoder = nn.Sequential(\n",
    "            nn.Linear(encode_bits, 128 * 8 * 8),\n",
    "            nn.ReLU(),\n",
    "            nn.Unflatten(1, (128, 8, 8)),\n",
    "\n",
    "            nn.ConvTranspose2d(128, 64, kernel_size=2, stride=2, padding=0),\n",
    "            nn.BatchNorm2d(64),\n",
    "            nn.ReLU(),\n",
    "\n",
    "            nn.ConvTranspose2d(64, 32, kernel_size=2, stride=2, padding=0),\n",
    "            nn.BatchNorm2d(32),\n",
    "            nn.ReLU(),\n",
    "\n",
    "            nn.ConvTranspose2d(32, in_chn, kernel_size=2, stride=2, padding=0),\n",
    "            nn.BatchNorm2d(in_chn),\n",
    "            nn.Sigmoid(),\n",
    "        )\n",
    "\n",
    "    def forward(self, X):\n",
    "        encoded = self._encoder(X)\n",
    "        decoded = self._decoder(encoded)\n",
    "        return decoded"
   ],
   "metadata": {
    "_kg_hide-input": true,
    "execution": {
     "iopub.status.busy": "2023-08-09T06:01:35.374962Z",
     "iopub.execute_input": "2023-08-09T06:01:35.375353Z",
     "iopub.status.idle": "2023-08-09T06:01:35.388094Z",
     "shell.execute_reply.started": "2023-08-09T06:01:35.375321Z",
     "shell.execute_reply": "2023-08-09T06:01:35.386975Z"
    },
    "trusted": true,
    "ExecuteTime": {
     "end_time": "2023-08-09T06:10:26.828121288Z",
     "start_time": "2023-08-09T06:10:26.819258752Z"
    }
   },
   "execution_count": 3,
   "outputs": []
  },
  {
   "cell_type": "code",
   "source": [
    "dg = ShapesGenerator(64, 64)\n",
    "colors = [\"red\", \"green\", \"blue\", \"yellow\", \"black\"]\n",
    "shapes = [\"circle\", \"triangle\", \"square\", \"pentagon\"]\n",
    "sizes = [\"very#small\", \"small\", \"medium\", \"large\", \"very#large\"]\n",
    "\n",
    "def gen_clicked(_):\n",
    "    with output:\n",
    "        clear_output()\n",
    "        gen_shapes_data(dg, shapes, colors, sizes)\n",
    "        print(\"Generated\")\n",
    "\n",
    "def clear_clicked(_):\n",
    "    with output: \n",
    "        clear_output()\n",
    "        shutil.rmtree(dg.DIR)\n",
    "        print(\"Data Cleared\")\n",
    "    os.mkdir(dg.DIR)\n",
    "\n",
    "gen_button = widgets.Button(description='Generate DataSet')   \n",
    "gen_button.on_click(gen_clicked)\n",
    "clear_button = widgets.Button(description='Clear DataSet')\n",
    "clear_button.on_click(clear_clicked)\n",
    "output = widgets.Output()\n",
    "display(gen_button, clear_button, output)"
   ],
   "metadata": {
    "_kg_hide-input": true,
    "execution": {
     "iopub.status.busy": "2023-08-09T06:01:35.806578Z",
     "iopub.execute_input": "2023-08-09T06:01:35.807107Z",
     "iopub.status.idle": "2023-08-09T06:01:35.828996Z",
     "shell.execute_reply.started": "2023-08-09T06:01:35.807069Z",
     "shell.execute_reply": "2023-08-09T06:01:35.827898Z"
    },
    "trusted": true,
    "ExecuteTime": {
     "end_time": "2023-08-11T14:33:20.875487361Z",
     "start_time": "2023-08-11T14:33:20.826258113Z"
    }
   },
   "execution_count": 2,
   "outputs": [
    {
     "data": {
      "text/plain": "Button(description='Generate DataSet', style=ButtonStyle())",
      "application/vnd.jupyter.widget-view+json": {
       "version_major": 2,
       "version_minor": 0,
       "model_id": "8f5cadd3a1f9486eb21372dadf8e7945"
      }
     },
     "metadata": {},
     "output_type": "display_data"
    },
    {
     "data": {
      "text/plain": "Button(description='Clear DataSet', style=ButtonStyle())",
      "application/vnd.jupyter.widget-view+json": {
       "version_major": 2,
       "version_minor": 0,
       "model_id": "39ed24b867134c54ad6800dcf48d0b6f"
      }
     },
     "metadata": {},
     "output_type": "display_data"
    },
    {
     "data": {
      "text/plain": "Output()",
      "application/vnd.jupyter.widget-view+json": {
       "version_major": 2,
       "version_minor": 0,
       "model_id": "d5dcd66926be4df0ae7eb64bb8b0d0ed"
      }
     },
     "metadata": {},
     "output_type": "display_data"
    }
   ]
  },
  {
   "cell_type": "code",
   "source": [
    "model = AutoEncoderDecoder(3, 32)\n",
    "optimizer = optim.Adam(model.parameters())\n",
    "loss_fn = nn.MSELoss()"
   ],
   "metadata": {
    "execution": {
     "iopub.status.busy": "2023-08-09T06:01:36.165038Z",
     "iopub.execute_input": "2023-08-09T06:01:36.165655Z",
     "iopub.status.idle": "2023-08-09T06:01:36.180936Z",
     "shell.execute_reply.started": "2023-08-09T06:01:36.165626Z",
     "shell.execute_reply": "2023-08-09T06:01:36.180054Z"
    },
    "trusted": true,
    "ExecuteTime": {
     "end_time": "2023-08-09T06:12:32.397385272Z",
     "start_time": "2023-08-09T06:12:32.343836933Z"
    }
   },
   "execution_count": 7,
   "outputs": []
  },
  {
   "cell_type": "code",
   "source": [
    "for epoch in range(10):\n",
    "    los = 0\n",
    "    i = 0\n",
    "    data = dg.data(mb=1)\n",
    "    for b in data:\n",
    "        optimizer.zero_grad()\n",
    "        out = model(b)\n",
    "        loss = loss_fn(out, b)\n",
    "        loss.backward()\n",
    "        optimizer.step()\n",
    "        los += loss.item()\n",
    "        i += 1\n",
    "    print(f\"Epoch {epoch}: {los / i}\")"
   ],
   "metadata": {
    "execution": {
     "iopub.status.busy": "2023-08-09T06:01:36.854308Z",
     "iopub.execute_input": "2023-08-09T06:01:36.854692Z"
    },
    "trusted": true,
    "ExecuteTime": {
     "end_time": "2023-08-09T06:15:21.762079814Z",
     "start_time": "2023-08-09T06:12:33.139749825Z"
    }
   },
   "execution_count": 8,
   "outputs": [
    {
     "name": "stdout",
     "output_type": "stream",
     "text": [
      "Epoch 0: 0.22356107093320035\n",
      "Epoch 1: 0.19620144249189017\n",
      "Epoch 2: 0.16928692840703644\n",
      "Epoch 3: 0.14910510064351676\n",
      "Epoch 4: 0.13590662550218036\n",
      "Epoch 5: 0.12571179903674834\n",
      "Epoch 6: 0.11766570054068423\n",
      "Epoch 7: 0.11040515006326213\n",
      "Epoch 8: 0.10430505056634988\n",
      "Epoch 9: 0.09889159325768451\n",
      "Epoch 10: 0.09250421379462327\n",
      "Epoch 11: 0.08875697249970814\n",
      "Epoch 12: 0.08297273704763686\n",
      "Epoch 13: 0.07914472706984765\n",
      "Epoch 14: 0.07698092687100468\n",
      "Epoch 15: 0.07384007278424089\n",
      "Epoch 16: 0.07054423515011768\n",
      "Epoch 17: 0.06846337180842857\n",
      "Epoch 18: 0.06606143194776361\n",
      "Epoch 19: 0.06319860298887338\n",
      "Epoch 20: 0.060702160000801086\n",
      "Epoch 21: 0.0588191218747951\n",
      "Epoch 22: 0.056186838389033135\n",
      "Epoch 23: 0.05528694003967956\n",
      "Epoch 24: 0.05368649771455491\n",
      "Epoch 25: 0.05190805035947573\n",
      "Epoch 26: 0.05056823823269051\n",
      "Epoch 27: 0.048118999633606115\n",
      "Epoch 28: 0.047334718103013415\n",
      "Epoch 29: 0.046467687575017465\n",
      "Epoch 30: 0.04514420001149768\n",
      "Epoch 31: 0.04348098750382957\n",
      "Epoch 32: 0.042243066308374454\n",
      "Epoch 33: 0.041127730059520445\n",
      "Epoch 34: 0.03983578318268946\n",
      "Epoch 35: 0.03881262820951714\n",
      "Epoch 36: 0.037630502752369586\n",
      "Epoch 37: 0.03766630595494615\n",
      "Epoch 38: 0.03680756789549153\n",
      "Epoch 39: 0.03527987352802907\n",
      "Epoch 40: 0.03411259733619961\n",
      "Epoch 41: 0.033402850325818696\n",
      "Epoch 42: 0.03276722407023801\n",
      "Epoch 43: 0.032472816932171876\n",
      "Epoch 44: 0.031211445181824192\n",
      "Epoch 45: 0.03153103655480807\n",
      "Epoch 46: 0.03177133422012966\n",
      "Epoch 47: 0.03155705918290532\n",
      "Epoch 48: 0.03103680936343009\n",
      "Epoch 49: 0.02888682424690169\n",
      "Epoch 50: 0.02893661463282781\n",
      "Epoch 51: 0.027485530685153928\n",
      "Epoch 52: 0.02724898814933725\n",
      "Epoch 53: 0.027244508040534094\n",
      "Epoch 54: 0.026678577733991463\n",
      "Epoch 55: 0.026214105150856003\n",
      "Epoch 56: 0.0255367432601086\n",
      "Epoch 57: 0.025044270311620567\n",
      "Epoch 58: 0.02402611816357268\n",
      "Epoch 59: 0.023773811965037396\n",
      "Epoch 60: 0.024986481515340286\n",
      "Epoch 61: 0.02643083348538321\n",
      "Epoch 62: 0.024600311744921277\n",
      "Epoch 63: 0.023181276815473148\n",
      "Epoch 64: 0.0216799963606835\n",
      "Epoch 65: 0.02113370165357938\n",
      "Epoch 66: 0.020451252542362356\n",
      "Epoch 67: 0.020255615146332742\n",
      "Epoch 68: 0.020725761646275768\n",
      "Epoch 69: 0.020341290197897665\n",
      "Epoch 70: 0.020717366349579085\n",
      "Epoch 71: 0.019958892101790793\n",
      "Epoch 72: 0.01896210303437887\n",
      "Epoch 73: 0.01910992325882953\n",
      "Epoch 74: 0.018973908419398094\n",
      "Epoch 75: 0.01951697808091003\n",
      "Epoch 76: 0.019042196987879158\n",
      "Epoch 77: 0.019095600292197253\n",
      "Epoch 78: 0.019364240109035286\n",
      "Epoch 79: 0.020580713369763724\n",
      "Epoch 80: 0.023664937077993803\n",
      "Epoch 81: 0.020814697451815748\n",
      "Epoch 82: 0.01922784016541399\n",
      "Epoch 83: 0.01768832637854658\n",
      "Epoch 84: 0.016350739866052524\n",
      "Epoch 85: 0.015833884602099068\n",
      "Epoch 86: 0.01552537317609064\n",
      "Epoch 87: 0.015107635945764065\n",
      "Epoch 88: 0.014971996141173461\n",
      "Epoch 89: 0.015027873932688248\n",
      "Epoch 90: 0.01460831494319557\n",
      "Epoch 91: 0.01462478646870223\n",
      "Epoch 92: 0.014657801593478658\n",
      "Epoch 93: 0.014941813159125423\n",
      "Epoch 94: 0.014731941166066445\n",
      "Epoch 95: 0.015394997932846741\n",
      "Epoch 96: 0.016284289474755822\n",
      "Epoch 97: 0.016380996484825813\n",
      "Epoch 98: 0.015168736110173978\n",
      "Epoch 99: 0.014347275080491263\n"
     ]
    }
   ]
  },
  {
   "cell_type": "code",
   "source": [
    "data = dg.data()\n",
    "\n",
    "def next_clicked(_):\n",
    "    im = next(data)\n",
    "    with output:\n",
    "        clear_output()\n",
    "        out = model(im)\n",
    "        plt.imshow(out.squeeze().detach().numpy().transpose(1, 2, 0))\n",
    "        plt.show()\n",
    "\n",
    "next_button = widgets.Button(description=\"Next\")\n",
    "next_button.on_click(next_clicked)\n",
    "output = widgets.Output()\n",
    "display(next_button, output)"
   ],
   "metadata": {
    "trusted": true,
    "ExecuteTime": {
     "end_time": "2023-08-09T06:18:17.483024633Z",
     "start_time": "2023-08-09T06:18:17.420600934Z"
    }
   },
   "execution_count": 23,
   "outputs": [
    {
     "data": {
      "text/plain": "Button(description='Next', style=ButtonStyle())",
      "application/vnd.jupyter.widget-view+json": {
       "version_major": 2,
       "version_minor": 0,
       "model_id": "e8a735542cbb46428a000bd71401e5ae"
      }
     },
     "metadata": {},
     "output_type": "display_data"
    },
    {
     "data": {
      "text/plain": "Output()",
      "application/vnd.jupyter.widget-view+json": {
       "version_major": 2,
       "version_minor": 0,
       "model_id": "b32e884df4b842fe8a0216ee7c4a1c75"
      }
     },
     "metadata": {},
     "output_type": "display_data"
    }
   ]
  },
  {
   "cell_type": "code",
   "execution_count": 25,
   "outputs": [
    {
     "data": {
      "text/plain": "<Figure size 640x480 with 1 Axes>",
      "image/png": "[encoded data removed]"
     },
     "metadata": {},
     "output_type": "display_data"
    }
   ],
   "source": [
    "im = next(data)\n",
    "out = model(im)\n",
    "plt.imshow(out.squeeze().detach().numpy().transpose(1, 2, 0))\n",
    "plt.show()"
   ],
   "metadata": {
    "collapsed": false,
    "ExecuteTime": {
     "end_time": "2023-08-09T06:19:52.220080842Z",
     "start_time": "2023-08-09T06:19:51.963025924Z"
    }
   }
  },
  {
   "cell_type": "code",
   "execution_count": null,
   "outputs": [],
   "source": [],
   "metadata": {
    "collapsed": false
   }
  }
 ]
}
